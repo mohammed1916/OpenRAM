{
 "cells": [
  {
   "cell_type": "code",
   "execution_count": 2,
   "metadata": {},
   "outputs": [],
   "source": [
    "import gdstk\n",
    "import cairosvg\n",
    "from IPython.display import Image\n",
    "def gds2d_view(gds_file, scale=10):\n",
    "  svg = gds_file.split(\".\")[0] + \".svg\"\n",
    "  png = gds_file.split(\".\")[0] + \".png\"\n",
    "  library = gdstk.read_gds(gds_file)\n",
    "  top_cells = library.top_level()\n",
    "  top_cells[0].write_svg(svg)\n",
    "  cairosvg.svg2png(url=svg, write_to=png, scale=scale)\n",
    "  return Image(png)"
   ]
  },
  {
   "cell_type": "code",
   "execution_count": 19,
   "metadata": {},
   "outputs": [],
   "source": [
    "gds = \"/Users/mohammedabdullah/Documents/Development/python/tcam/OpenRAM/technology/sky130/gds_lib/sky130_fd_bd_sram__sram_sp_cell_opt1.gds\"\n"
   ]
  },
  {
   "cell_type": "code",
   "execution_count": 20,
   "metadata": {},
   "outputs": [
    {
     "name": "stdout",
     "output_type": "stream",
     "text": [
      "Reading GDSII file /Users/mohammedabdullah/Documents/Development/python/tcam/OpenRAM/technology/sky130/gds_lib/sky130_fd_bd_sram__sram_sp_cell_opt1.gds...\n",
      "Extracting polygons...\n",
      "\n",
      "Processing cell:  sky130_fd_bd_sram__sram_sp_cell_addpoly_sizing\n",
      "\tpaths loop. total paths: 0\n",
      "\tpolygons loop. total polygons: 2\n",
      "\tTriangulating polygons...\n",
      "\n",
      "Processing cell:  sky130_fd_bd_sram__sram_sp_cell_p1_serif\n",
      "\tpaths loop. total paths: 0\n",
      "\tpolygons loop. total polygons: 1\n",
      "\tTriangulating polygons...\n",
      "\n",
      "Processing cell:  sky130_fd_bd_sram__sram_sp_cell_p1_serifs\n",
      "\tpaths loop. total paths: 0\n",
      "\tpolygons loop. total polygons: 0\n",
      "\tTriangulating polygons...\n",
      "\n",
      "Processing cell:  sky130_fd_bd_sram__sram_sp_cell_p1m_sizing\n",
      "\tpaths loop. total paths: 0\n",
      "\tpolygons loop. total polygons: 4\n",
      "\tTriangulating polygons...\n",
      "\n",
      "Processing cell:  sky130_fd_bd_sram__sram_sp_cell_via\n",
      "\tpaths loop. total paths: 0\n",
      "\tpolygons loop. total polygons: 2\n",
      "\tTriangulating polygons...\n",
      "\n",
      "Processing cell:  sky130_fd_bd_sram__sram_sp_cell_metopt1\n",
      "\tpaths loop. total paths: 0\n",
      "\tpolygons loop. total polygons: 8\n",
      "\tTriangulating polygons...\n",
      "\n",
      "Processing cell:  sky130_fd_bd_sram__sram_sp_cell_addpoly\n",
      "\tpaths loop. total paths: 0\n",
      "\tpolygons loop. total polygons: 2\n",
      "\tTriangulating polygons...\n",
      "\n",
      "Processing cell:  sky130_fd_bd_sram__sram_sp_cell_fom_serif_pmos\n",
      "\tpaths loop. total paths: 0\n",
      "\tpolygons loop. total polygons: 1\n",
      "\tTriangulating polygons...\n",
      "\n",
      "Processing cell:  sky130_fd_bd_sram__sram_sp_cell_fom_serif_nmos\n",
      "\tpaths loop. total paths: 0\n",
      "\tpolygons loop. total polygons: 1\n",
      "\tTriangulating polygons...\n",
      "\n",
      "Processing cell:  sky130_fd_bd_sram__sram_sp_cell_fom_serifs\n",
      "\tpaths loop. total paths: 0\n",
      "\tpolygons loop. total polygons: 0\n",
      "\tTriangulating polygons...\n",
      "\n",
      "Processing cell:  sky130_fd_bd_sram__sram_sp_cell\n",
      "\tpaths loop. total paths: 0\n",
      "\tpolygons loop. total polygons: 39\n",
      "\tTriangulating polygons...\n",
      "\n",
      "Processing cell:  sky130_fd_bd_sram__sram_sp_cell_opt1_ce\n",
      "\tpaths loop. total paths: 0\n",
      "\tpolygons loop. total polygons: 1\n",
      "\tTriangulating polygons...\n",
      "\n",
      "Processing cell:  sky130_fd_bd_sram__sram_sp_cell_met2\n",
      "\tpaths loop. total paths: 0\n",
      "\tpolygons loop. total polygons: 3\n",
      "\tTriangulating polygons...\n",
      "\n",
      "Processing cell:  sky130_fd_bd_sram__sram_sp_cell_opt1\n",
      "\tpaths loop. total paths: 0\n",
      "\tpolygons loop. total polygons: 8\n",
      "\tTriangulating polygons...\n",
      "\n",
      "Building Scenegraph:\n",
      "sky130_fd_bd_sram__sram_sp_cell_opt1\n",
      "\t ??? ( sky130_fd_bd_sram__sram_sp_cell_met2)\n",
      "\t ??? ( sky130_fd_bd_sram__sram_sp_cell_opt1_ce)\n",
      "\t\t ??? ( sky130_fd_bd_sram__sram_sp_cell)\n",
      "\t\t\t ??? ( sky130_fd_bd_sram__sram_sp_cell_fom_serifs)\n",
      "\t\t\t\t ??? ( sky130_fd_bd_sram__sram_sp_cell_fom_serif_pmos)\n",
      "\t\t\t\t ??? ( sky130_fd_bd_sram__sram_sp_cell_fom_serif_pmos)\n",
      "\t\t\t\t ??? ( sky130_fd_bd_sram__sram_sp_cell_fom_serif_nmos)\n",
      "\t\t\t\t ??? ( sky130_fd_bd_sram__sram_sp_cell_fom_serif_nmos)\n",
      "\t\t ??? ( sky130_fd_bd_sram__sram_sp_cell_addpoly)\n",
      "\t\t ??? ( sky130_fd_bd_sram__sram_sp_cell_metopt1)\n",
      "\t ??? ( sky130_fd_bd_sram__sram_sp_cell_via)\n",
      "\t ??? ( sky130_fd_bd_sram__sram_sp_cell_p1m_sizing)\n",
      "\t\t ??? ( sky130_fd_bd_sram__sram_sp_cell_p1_serifs)\n",
      "\t\t\t ??? ( sky130_fd_bd_sram__sram_sp_cell_p1_serif)\n",
      "\t\t\t ??? ( sky130_fd_bd_sram__sram_sp_cell_p1_serif)\n",
      "\t\t\t ??? ( sky130_fd_bd_sram__sram_sp_cell_p1_serif)\n",
      "\t\t\t ??? ( sky130_fd_bd_sram__sram_sp_cell_p1_serif)\n",
      "\t ??? ( sky130_fd_bd_sram__sram_sp_cell_addpoly_sizing)\n",
      "\n",
      "Writing glTF file:\n",
      "Done.\n"
     ]
    }
   ],
   "source": [
    "!python /Users/mohammedabdullah/Documents/Development/python/tcam/OpenRAM/GDS2glTF/gds2gltf.py $gds "
   ]
  },
  {
   "cell_type": "code",
   "execution_count": 27,
   "metadata": {},
   "outputs": [],
   "source": [
    "gltf_file = '/Users/mohammedabdullah/Documents/Development/python/tcam/OpenRAM/technology/sky130/gds_lib/sky130_fd_bd_sram__sram_sp_cell_opt1.gds.gltf'"
   ]
  },
  {
   "cell_type": "code",
   "execution_count": 1,
   "metadata": {},
   "outputs": [
    {
     "ename": "NameError",
     "evalue": "name 'gltf_file' is not defined",
     "output_type": "error",
     "traceback": [
      "\u001b[0;31m---------------------------------------------------------------------------\u001b[0m",
      "\u001b[0;31mNameError\u001b[0m                                 Traceback (most recent call last)",
      "Cell \u001b[0;32mIn[1], line 6\u001b[0m\n\u001b[1;32m      3\u001b[0m \u001b[38;5;28;01mimport\u001b[39;00m \u001b[38;5;21;01mipywidgets\u001b[39;00m \u001b[38;5;28;01mas\u001b[39;00m \u001b[38;5;21;01mwidgets\u001b[39;00m\n\u001b[1;32m      5\u001b[0m reader \u001b[38;5;241m=\u001b[39m vtk\u001b[38;5;241m.\u001b[39mvtkGLTFReader() \n\u001b[0;32m----> 6\u001b[0m reader\u001b[38;5;241m.\u001b[39mSetFileName(\u001b[43mgltf_file\u001b[49m)\n\u001b[1;32m      7\u001b[0m reader\u001b[38;5;241m.\u001b[39mUpdate() \n\u001b[1;32m      9\u001b[0m plot \u001b[38;5;241m=\u001b[39m k3d\u001b[38;5;241m.\u001b[39mplot()\n",
      "\u001b[0;31mNameError\u001b[0m: name 'gltf_file' is not defined"
     ]
    }
   ],
   "source": [
    "import k3d\n",
    "import vtk\n",
    "import ipywidgets as widgets\n",
    "\n",
    "reader = vtk.vtkGLTFReader() \n",
    "reader.SetFileName(gltf_file)\n",
    "reader.Update() \n",
    "\n",
    "plot = k3d.plot()\n",
    "mb = reader.GetOutput()\n",
    "\n",
    "iterator = mb.NewIterator()\n",
    "\n",
    "vtk_polyobjects = []\n",
    "while not iterator.IsDoneWithTraversal():\n",
    "    item = iterator.GetCurrentDataObject()\n",
    "    vtk_polyobjects.append(item)\n",
    "    iterator.GoToNextItem()\n"
   ]
  },
  {
   "cell_type": "code",
   "execution_count": 37,
   "metadata": {},
   "outputs": [
    {
     "ename": "RuntimeError",
     "evalue": "vtk module is not available",
     "output_type": "error",
     "traceback": [
      "\u001b[0;31m---------------------------------------------------------------------------\u001b[0m",
      "\u001b[0;31mRuntimeError\u001b[0m                              Traceback (most recent call last)",
      "Cell \u001b[0;32mIn[37], line 2\u001b[0m\n\u001b[1;32m      1\u001b[0m \u001b[38;5;28;01mfor\u001b[39;00m obj \u001b[38;5;129;01min\u001b[39;00m vtk_polyobjects:\n\u001b[0;32m----> 2\u001b[0m     plot \u001b[38;5;241m+\u001b[39m\u001b[38;5;241m=\u001b[39m \u001b[43mk3d\u001b[49m\u001b[38;5;241;43m.\u001b[39;49m\u001b[43mvtk_poly_data\u001b[49m\u001b[43m(\u001b[49m\u001b[43mobj\u001b[49m\u001b[43m,\u001b[49m\u001b[43m \u001b[49m\u001b[43mcolor\u001b[49m\u001b[38;5;241;43m=\u001b[39;49m\u001b[38;5;241;43m0x222222\u001b[39;49m\u001b[43m)\u001b[49m\n\u001b[1;32m      3\u001b[0m plot\u001b[38;5;241m.\u001b[39mdisplay()\n\u001b[1;32m      5\u001b[0m debug_info \u001b[38;5;241m=\u001b[39m widgets\u001b[38;5;241m.\u001b[39mHTML()\n",
      "File \u001b[0;32m/opt/homebrew/Caskroom/miniconda/base/lib/python3.9/site-packages/k3d/factory.py:1941\u001b[0m, in \u001b[0;36mvtk_poly_data\u001b[0;34m(poly_data, color, color_attribute, color_map, side, wireframe, opacity, volume, volume_bounds, opacity_function, color_range, cell_color_attribute, flat_shading, name, group, custom_data, compression_level, **kwargs)\u001b[0m\n\u001b[1;32m   1938\u001b[0m     color_map \u001b[38;5;241m=\u001b[39m default_colormap\n\u001b[1;32m   1940\u001b[0m \u001b[38;5;28;01mif\u001b[39;00m vtk \u001b[38;5;129;01mis\u001b[39;00m \u001b[38;5;28;01mNone\u001b[39;00m:\n\u001b[0;32m-> 1941\u001b[0m     \u001b[38;5;28;01mraise\u001b[39;00m \u001b[38;5;167;01mRuntimeError\u001b[39;00m(\u001b[38;5;124m\"\u001b[39m\u001b[38;5;124mvtk module is not available\u001b[39m\u001b[38;5;124m\"\u001b[39m)\n\u001b[1;32m   1943\u001b[0m \u001b[38;5;28;01mif\u001b[39;00m (\u001b[38;5;28mmax\u001b[39m(poly_data\u001b[38;5;241m.\u001b[39mGetPolys()\u001b[38;5;241m.\u001b[39mGetMaxCellSize(), poly_data\u001b[38;5;241m.\u001b[39mGetStrips()\u001b[38;5;241m.\u001b[39mGetMaxCellSize()) \u001b[38;5;241m>\u001b[39m \u001b[38;5;241m3\u001b[39m):\n\u001b[1;32m   1944\u001b[0m     cut_triangles \u001b[38;5;241m=\u001b[39m vtk\u001b[38;5;241m.\u001b[39mvtkTriangleFilter()\n",
      "\u001b[0;31mRuntimeError\u001b[0m: vtk module is not available"
     ]
    }
   ],
   "source": [
    "for obj in vtk_polyobjects:\n",
    "    plot += k3d.vtk_poly_data(obj, color=0x222222)\n",
    "plot.display()\n",
    "\n",
    "debug_info = widgets.HTML()"
   ]
  },
  {
   "cell_type": "code",
   "execution_count": 22,
   "metadata": {},
   "outputs": [
    {
     "ename": "TemplateNotFound",
     "evalue": "viewer.html",
     "output_type": "error",
     "traceback": [
      "\u001b[0;31m---------------------------------------------------------------------------\u001b[0m",
      "\u001b[0;31mTemplateNotFound\u001b[0m                          Traceback (most recent call last)",
      "Cell \u001b[0;32mIn[22], line 2\u001b[0m\n\u001b[1;32m      1\u001b[0m \u001b[38;5;28;01mimport\u001b[39;00m \u001b[38;5;21;01mjinja2\u001b[39;00m\n\u001b[0;32m----> 2\u001b[0m gds_viewer \u001b[38;5;241m=\u001b[39m \u001b[43mjinja2\u001b[49m\u001b[38;5;241;43m.\u001b[39;49m\u001b[43mEnvironment\u001b[49m\u001b[43m(\u001b[49m\u001b[43mloader\u001b[49m\u001b[38;5;241;43m=\u001b[39;49m\u001b[43mjinja2\u001b[49m\u001b[38;5;241;43m.\u001b[39;49m\u001b[43mFileSystemLoader\u001b[49m\u001b[43m(\u001b[49m\u001b[38;5;124;43m'\u001b[39;49m\u001b[38;5;124;43mgds_viewer\u001b[39;49m\u001b[38;5;124;43m'\u001b[39;49m\u001b[43m)\u001b[49m\u001b[43m)\u001b[49m\u001b[38;5;241;43m.\u001b[39;49m\u001b[43mget_template\u001b[49m\u001b[43m(\u001b[49m\u001b[38;5;124;43m'\u001b[39;49m\u001b[38;5;124;43mviewer.html\u001b[39;49m\u001b[38;5;124;43m'\u001b[39;49m\u001b[43m)\u001b[49m\n",
      "File \u001b[0;32m/opt/homebrew/Caskroom/miniconda/base/lib/python3.9/site-packages/jinja2/environment.py:1010\u001b[0m, in \u001b[0;36mEnvironment.get_template\u001b[0;34m(self, name, parent, globals)\u001b[0m\n\u001b[1;32m   1007\u001b[0m \u001b[38;5;28;01mif\u001b[39;00m parent \u001b[38;5;129;01mis\u001b[39;00m \u001b[38;5;129;01mnot\u001b[39;00m \u001b[38;5;28;01mNone\u001b[39;00m:\n\u001b[1;32m   1008\u001b[0m     name \u001b[38;5;241m=\u001b[39m \u001b[38;5;28mself\u001b[39m\u001b[38;5;241m.\u001b[39mjoin_path(name, parent)\n\u001b[0;32m-> 1010\u001b[0m \u001b[38;5;28;01mreturn\u001b[39;00m \u001b[38;5;28;43mself\u001b[39;49m\u001b[38;5;241;43m.\u001b[39;49m\u001b[43m_load_template\u001b[49m\u001b[43m(\u001b[49m\u001b[43mname\u001b[49m\u001b[43m,\u001b[49m\u001b[43m \u001b[49m\u001b[38;5;28;43mglobals\u001b[39;49m\u001b[43m)\u001b[49m\n",
      "File \u001b[0;32m/opt/homebrew/Caskroom/miniconda/base/lib/python3.9/site-packages/jinja2/environment.py:969\u001b[0m, in \u001b[0;36mEnvironment._load_template\u001b[0;34m(self, name, globals)\u001b[0m\n\u001b[1;32m    965\u001b[0m             template\u001b[38;5;241m.\u001b[39mglobals\u001b[38;5;241m.\u001b[39mupdate(\u001b[38;5;28mglobals\u001b[39m)\n\u001b[1;32m    967\u001b[0m         \u001b[38;5;28;01mreturn\u001b[39;00m template\n\u001b[0;32m--> 969\u001b[0m template \u001b[38;5;241m=\u001b[39m \u001b[38;5;28;43mself\u001b[39;49m\u001b[38;5;241;43m.\u001b[39;49m\u001b[43mloader\u001b[49m\u001b[38;5;241;43m.\u001b[39;49m\u001b[43mload\u001b[49m\u001b[43m(\u001b[49m\u001b[38;5;28;43mself\u001b[39;49m\u001b[43m,\u001b[49m\u001b[43m \u001b[49m\u001b[43mname\u001b[49m\u001b[43m,\u001b[49m\u001b[43m \u001b[49m\u001b[38;5;28;43mself\u001b[39;49m\u001b[38;5;241;43m.\u001b[39;49m\u001b[43mmake_globals\u001b[49m\u001b[43m(\u001b[49m\u001b[38;5;28;43mglobals\u001b[39;49m\u001b[43m)\u001b[49m\u001b[43m)\u001b[49m\n\u001b[1;32m    971\u001b[0m \u001b[38;5;28;01mif\u001b[39;00m \u001b[38;5;28mself\u001b[39m\u001b[38;5;241m.\u001b[39mcache \u001b[38;5;129;01mis\u001b[39;00m \u001b[38;5;129;01mnot\u001b[39;00m \u001b[38;5;28;01mNone\u001b[39;00m:\n\u001b[1;32m    972\u001b[0m     \u001b[38;5;28mself\u001b[39m\u001b[38;5;241m.\u001b[39mcache[cache_key] \u001b[38;5;241m=\u001b[39m template\n",
      "File \u001b[0;32m/opt/homebrew/Caskroom/miniconda/base/lib/python3.9/site-packages/jinja2/loaders.py:126\u001b[0m, in \u001b[0;36mBaseLoader.load\u001b[0;34m(self, environment, name, globals)\u001b[0m\n\u001b[1;32m    122\u001b[0m     \u001b[38;5;28mglobals\u001b[39m \u001b[38;5;241m=\u001b[39m {}\n\u001b[1;32m    124\u001b[0m \u001b[38;5;66;03m# first we try to get the source for this template together\u001b[39;00m\n\u001b[1;32m    125\u001b[0m \u001b[38;5;66;03m# with the filename and the uptodate function.\u001b[39;00m\n\u001b[0;32m--> 126\u001b[0m source, filename, uptodate \u001b[38;5;241m=\u001b[39m \u001b[38;5;28;43mself\u001b[39;49m\u001b[38;5;241;43m.\u001b[39;49m\u001b[43mget_source\u001b[49m\u001b[43m(\u001b[49m\u001b[43menvironment\u001b[49m\u001b[43m,\u001b[49m\u001b[43m \u001b[49m\u001b[43mname\u001b[49m\u001b[43m)\u001b[49m\n\u001b[1;32m    128\u001b[0m \u001b[38;5;66;03m# try to load the code from the bytecode cache if there is a\u001b[39;00m\n\u001b[1;32m    129\u001b[0m \u001b[38;5;66;03m# bytecode cache configured.\u001b[39;00m\n\u001b[1;32m    130\u001b[0m bcc \u001b[38;5;241m=\u001b[39m environment\u001b[38;5;241m.\u001b[39mbytecode_cache\n",
      "File \u001b[0;32m/opt/homebrew/Caskroom/miniconda/base/lib/python3.9/site-packages/jinja2/loaders.py:218\u001b[0m, in \u001b[0;36mFileSystemLoader.get_source\u001b[0;34m(self, environment, template)\u001b[0m\n\u001b[1;32m    216\u001b[0m     \u001b[38;5;66;03m# Use normpath to convert Windows altsep to sep.\u001b[39;00m\n\u001b[1;32m    217\u001b[0m     \u001b[38;5;28;01mreturn\u001b[39;00m contents, os\u001b[38;5;241m.\u001b[39mpath\u001b[38;5;241m.\u001b[39mnormpath(filename), uptodate\n\u001b[0;32m--> 218\u001b[0m \u001b[38;5;28;01mraise\u001b[39;00m TemplateNotFound(template)\n",
      "\u001b[0;31mTemplateNotFound\u001b[0m: viewer.html"
     ]
    }
   ],
   "source": [
    "import jinja2\n",
    "gds_viewer = jinja2.Environment(loader=jinja2.FileSystemLoader('gds_viewer')).get_template('viewer.html')"
   ]
  },
  {
   "cell_type": "code",
   "execution_count": 25,
   "metadata": {},
   "outputs": [
    {
     "ename": "NameError",
     "evalue": "name 'output' is not defined",
     "output_type": "error",
     "traceback": [
      "\u001b[0;31m---------------------------------------------------------------------------\u001b[0m",
      "\u001b[0;31mNameError\u001b[0m                                 Traceback (most recent call last)",
      "Cell \u001b[0;32mIn[25], line 1\u001b[0m\n\u001b[0;32m----> 1\u001b[0m IPython\u001b[38;5;241m.\u001b[39mdisplay\u001b[38;5;241m.\u001b[39mHTML(\u001b[43moutput\u001b[49m)\n",
      "\u001b[0;31mNameError\u001b[0m: name 'output' is not defined"
     ]
    }
   ],
   "source": [
    "IPython.display.HTML(output)"
   ]
  }
 ],
 "metadata": {
  "kernelspec": {
   "display_name": "base",
   "language": "python",
   "name": "python3"
  },
  "language_info": {
   "codemirror_mode": {
    "name": "ipython",
    "version": 3
   },
   "file_extension": ".py",
   "mimetype": "text/x-python",
   "name": "python",
   "nbconvert_exporter": "python",
   "pygments_lexer": "ipython3",
   "version": "3.9.12"
  }
 },
 "nbformat": 4,
 "nbformat_minor": 2
}
